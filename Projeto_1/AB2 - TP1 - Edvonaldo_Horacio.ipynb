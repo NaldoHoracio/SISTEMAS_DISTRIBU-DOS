{
 "cells": [
  {
   "cell_type": "markdown",
   "metadata": {},
   "source": [
    "<p align=\"center\">\n",
    "Universidade Federal de Alagoas</br>\n",
    "\n",
    "Instituto de Computação</br>\n",
    "\n",
    "</p>\n",
    "\n",
    "#Trabalho Prático AB2\n",
    "\n",
    "Disciplina: Sistemas Distribuídos\n",
    "\n",
    "Semestre letivo: 2019.1\n",
    "\n",
    "Professor: André Lage Freitas\n",
    "\n",
    "## Especificação\n",
    "\n",
    "**Importante**. Leia atentamente essa seção pois só serão aceitos trabalhos que obedecerem as a especificações a seguir. \n",
    "\n",
    "Baseado(a) no exemplo a seguir de implementação do B-multicast em Julia, façam os exercícios descritos nesse documento."
   ]
  },
  {
   "cell_type": "code",
   "execution_count": null,
   "metadata": {},
   "outputs": [],
   "source": [
    "using Pkg\n",
    "Pkg.add(\"Distributed\")\n",
    "Pkg.add(\"StatsPlots\") # Pacotes para os gráficos\n",
    "using StatsPlots\n",
    "\n",
    "function B_multicast(g,m,B_deliver)\n",
    "    for p in g\n",
    "        remotecall(B_deliver, p, m)\n",
    "    end\n",
    "end\n",
    "\n",
    "using Distributed\n",
    "\n",
    "# Adding 3 processes (workers)\n",
    "addprocs(3)\n",
    "\n",
    "# My group is composed by all workers\n",
    "g = workers()\n",
    "\n",
    "# Multicasting \"oi!\" message to group `g` by assuming `println` as B_deliver function.\n",
    "B_multicast(g,\"oi!\",println)"
   ]
  },
  {
   "cell_type": "markdown",
   "metadata": {},
   "source": [
    "### Exercício 1: Sincronismo (2,0 pontos)\n",
    "\n",
    "Adicione 10 processos com o comando `addprocs` abaixo. \n",
    "\n",
    "_Atenção_: sua instalação local de Julia pode não conseguir adicionar 10 processos, use a [JuliaBox](https://juliabox.com)."
   ]
  },
  {
   "cell_type": "code",
   "execution_count": null,
   "metadata": {},
   "outputs": [],
   "source": [
    "using Pkg\n",
    "Pkg.add(\"Distributed\")\n",
    "\n",
    "function B_multicast(g,m,B_deliver)\n",
    "    for p in g\n",
    "        remotecall(B_deliver, p, m)\n",
    "    end\n",
    "end\n",
    "\n",
    "using Distributed\n",
    "\n",
    "# Adding 10 processes (workers)\n",
    "addprocs(10)\n",
    "\n",
    "# My group is composed by all workers\n",
    "g = workers()\n",
    "\n",
    "# Multicasting \"oi!\" message to group `g` by assuming `println` as B_deliver function.\n",
    "B_multicast(g,\"oi!\",println)"
   ]
  },
  {
   "cell_type": "markdown",
   "metadata": {},
   "source": [
    "Modifique a implementação do B-multicast para utilizar communicação síncrona."
   ]
  },
  {
   "cell_type": "code",
   "execution_count": null,
   "metadata": {},
   "outputs": [],
   "source": [
    "# FUNÇÃO B-MULTICAST SÍNCRONA\n",
    "function B_multicast_sync(g, m, B_deliver)\n",
    "    for p in g\n",
    "        remotecall_wait(B_deliver, p, m)\n",
    "    end\n",
    "end"
   ]
  },
  {
   "cell_type": "markdown",
   "metadata": {},
   "source": [
    "Execute as duas versões do B-multicast (síncrona e assíncrona) e compare as saídas."
   ]
  },
  {
   "cell_type": "code",
   "execution_count": null,
   "metadata": {
    "scrolled": true
   },
   "outputs": [],
   "source": [
    "# COMPARAÇÃO ENTRE B-multicast síncrona (B_multicast_sync) e assíncrona (B_multicast)\n",
    "addprocs(10)\n",
    "g = workers()\n",
    "B_multicast_sync(g, \"Oi! Síncrona!\", println)\n",
    "B_multicast(g, \"Oi! Assíncrona!\", println)\n"
   ]
  },
  {
   "cell_type": "markdown",
   "metadata": {},
   "source": [
    "A ordem das mensagens das saídas foram as mesmas para ambas versões do B-multicast? Por quê?\n",
    "\n",
    "**Resposta**: _A ordem das mensagens na versões síncrona e assíncrona foram diferentes. Isso ocorre porque no modelo síncrono os processos de origem e destino são sincronizados a cada mensagem. As operações send e receive causam bloqueio, de modo que quando um send é feito, o processo de origem é bloqueado até que a recepção (receive) corresponde ocorra. Isso, inclusive, explica a sintonia no modelo síncrono. Já no modelo assíncrono essa sintonia não ocorre, havendo um atraso variável no trafego dos processos._\n",
    "\n",
    "### Exercício 2: Análise de desempenho do B-multicast (2,0 pontos)\n",
    "\n",
    "Meça o tempo de execução duas versões do B-multicast (síncrona e assíncrona). Dica: utilize a macro `@time`."
   ]
  },
  {
   "cell_type": "code",
   "execution_count": null,
   "metadata": {
    "scrolled": true
   },
   "outputs": [],
   "source": [
    "# Medindo o tempo de execução nas duas versões - SÍNCRONA\n",
    "#@time B_multicast_sync(g, \"Oi! Síncrono!\", println)\n",
    "#@time B_multicast(g, \"Oi! Assíncrono!\", println)\n",
    "@elapsed B_multicast_sync(g, \"Oi! Síncrono!\", println)"
   ]
  },
  {
   "cell_type": "code",
   "execution_count": null,
   "metadata": {
    "scrolled": true
   },
   "outputs": [],
   "source": [
    "# Medindo o tempo de execução nas duas versões - ASSÍNCRONA\n",
    "#@time B_multicast_sync(g, \"Oi! Síncrono!\", println)\n",
    "#@time B_multicast(g, \"Oi! Assíncrono!\", println)\n",
    "@elapsed B_multicast(g, \"Oi! Assíncrono!\", println)\n"
   ]
  },
  {
   "cell_type": "markdown",
   "metadata": {},
   "source": [
    "* Execute 50 vezes essa medição e construa um gráfico em forma de barras:\n",
    "\t* cada barra representando cada versão do B-multicast;\n",
    "\t* calcule e coloque no gráfico o [intervalo de confiança](https://en.wikipedia.org/wiki/Confidence_interval) com nível de 95%."
   ]
  },
  {
   "cell_type": "code",
   "execution_count": null,
   "metadata": {
    "scrolled": true
   },
   "outputs": [],
   "source": [
    "# Análise de desempenho do B-multicast\n",
    "t_sync = t_async = []\n",
    "\n",
    "times = 50\n",
    "\n",
    "for i = 1:times\n",
    "    #x_sync = @time B_multicast_sync(g, \"Oi! Síncrono!\", println)\n",
    "    #x_async = @time B_multicast(g,\"Oi! Assíncrono!\", println)\n",
    "    x_sync = @elapsed B_multicast_sync(g, \"Oi! Síncrono!\", println)\n",
    "    x_async = @elapsed B_multicast(g,\"Oi! Assíncrono!\", println)\n",
    "    push!(t_sync, float(x_sync))\n",
    "    push!(t_async, float(x_async))\n",
    "end\n",
    "\n",
    "y_sync = convert(Array{Float64,1}, t_sync);\n",
    "y_async = convert(Array{Float64,1}, t_async);\n",
    "\n",
    "x_axis = repeat([i for i = 1:50], outer = 5)\n",
    "y_axis = vcat(y_sync, y_async)\n",
    "values = repeat([\"Síncrono\", \"Assíncrono\"], inner = 50)\n",
    "\n",
    "groupedbar(x_axis, y_axis, group = values, \n",
    "    xlabel = \"times\", ylabel = \"times (s)\", \n",
    "    title = \"B-multicast síncrono vs. B-multicast assíncrono\")"
   ]
  },
  {
   "cell_type": "markdown",
   "metadata": {},
   "source": [
    "**Gráfico**: _por aqui_ "
   ]
  },
  {
   "cell_type": "markdown",
   "metadata": {},
   "source": [
    "* Qual das duas versões teve o menor tempo de execução? Por quê?\n",
    "\n",
    "**Resposta**: _Na maioria dos casos a versão que teve menor tempo de execução foi a assíncrona. Isso ocorre porque na comunicação síncrona a sintonia das operações send e receive leva a um alto custo temporal, enquanto que na comunicação assíncrona isso não ocorre, tornando-as relativamente mais rápidas._\n",
    "\n",
    "\n",
    "\n",
    "### Exercício 3: Análise de desempenho do R-multicast (3,0 pontos)\n",
    "\n",
    "Implemente duas versões do algoritmo R-multicast: uma assíncrona e outra síncrona.\n",
    "\n",
    "* R-multicast síncrono"
   ]
  },
  {
   "cell_type": "code",
   "execution_count": null,
   "metadata": {},
   "outputs": [],
   "source": [
    "#TODO implementação do R-multicast síncrono.\n",
    "#Função auxiliar do B_multicast\n",
    "#receive_sync = Bool[]\n",
    "receive_sync = Int[]\n",
    "function B_multicast_sync_on_check(receive_sync, p, g, m, R_deliver)\n",
    "    if !(p in receive_sync)\n",
    "        push!(receive_sync, p)\n",
    "        remotecall_wait(R_deliver,p, m)\n",
    "        R_multicast_sync(g, m, R_deliver)\n",
    "    end\n",
    "end\n",
    "\n",
    "function R_multicast_sync(g, m, R_deliver)\n",
    "    for p in g\n",
    "        B_multicast_sync_on_check(receive_sync, p, g, m, R_deliver)\n",
    "    end\n",
    "end"
   ]
  },
  {
   "cell_type": "markdown",
   "metadata": {},
   "source": [
    "* R-multicast assíncrono"
   ]
  },
  {
   "cell_type": "code",
   "execution_count": null,
   "metadata": {
    "scrolled": true
   },
   "outputs": [],
   "source": [
    "#TODO implementação do R-multicast assíncrono.\n",
    "#Função auxiliar do B_multicast\n",
    "#receive_async = Bool[]\n",
    "receive_async = Int[]\n",
    "function B_multicast_async_on_check(receive_async, p, g, m, R_deliver)\n",
    "    if !(p in receive_async)\n",
    "        push!(receive_async, p)\n",
    "        remotecall(R_deliver, p, m)\n",
    "        R_multicast_async(g, m, R_deliver)\n",
    "    end\n",
    "end\n",
    "\n",
    "function R_multicast_async(g, m, R_deliver)\n",
    "    for p in g\n",
    "        B_multicast_async_on_check(receive_async, p, g, m, R_deliver)\n",
    "    end\n",
    "end"
   ]
  },
  {
   "cell_type": "markdown",
   "metadata": {},
   "source": [
    "Faça a mesma análise de desempenho para o R-multicast que você fez no Exercício 2.\n",
    "\n",
    "\n",
    "**Gráfico**: _por aqui_    \n",
    "    \n",
    "    \n",
    "* Qual das duas versões (R-multicast assíncrono e assíncrono) teve o menor tempo de execução? Por quê?\n",
    "\n",
    "**Resposta**: _O que teve menor tempo de execução foi o R-multicast assíncrono. Isso ocorre porque na comunicação síncrona a sintonia das operações send e receive leva a um alto custo temporal, enquanto que na comunicação assíncrona isso não ocorre, tornando-as relativamente mais rápidas. Valen ainda salientar que R-multicast assíncrono usa B-multicast assíncrono, além do que as comparações mostraram resultados análogos ao B-multicast nas formas síncronas e assíncronas._\n",
    "\n",
    "_"
   ]
  },
  {
   "cell_type": "code",
   "execution_count": null,
   "metadata": {
    "scrolled": true
   },
   "outputs": [],
   "source": [
    "# Análise de desempenho do R-multicast\n",
    "t_sync_R = t_async_R = []\n",
    "\n",
    "times = 50\n",
    "\n",
    "for i = 1:times\n",
    "    #x_sync = @time B_multicast_sync(g, \"Oi! Síncrono!\", println)\n",
    "    #x_async = @time B_multicast(g,\"Oi! Assíncrono!\", println)\n",
    "    x_sync = @elapsed R_multicast_sync(g, \"Oi! Síncrono R!\", println)\n",
    "    x_async = @elapsed R_multicast_async(g,\"Oi! Assíncrono R!\", println)\n",
    "    push!(t_sync_R, float(x_sync))\n",
    "    push!(t_async_R, float(x_async))\n",
    "end\n",
    "\n",
    "y_sync = convert(Array{Float64,1}, t_sync);\n",
    "y_async = convert(Array{Float64,1}, t_async);\n",
    "\n",
    "x_axis = repeat([i for i = 1:50], outer = 2)\n",
    "y_axis = vcat(y_sync, y_async)\n",
    "values = repeat([\"Síncrono\", \"Assíncrono\"], inner = 50)\n",
    "\n",
    "groupedbar(x_axis, y_axis, group = values,\n",
    "    xlabel = \"times\", ylabel = \"times (s)\",\n",
    "    title = \"R-multicast síncrono vs. R-multicast assíncrono\")"
   ]
  },
  {
   "cell_type": "markdown",
   "metadata": {},
   "source": [
    "### Exercício 4: Análise de desempenho: B-multicast vs. R-multicast (3,0 pontos)\n",
    "\n",
    "Para cada uma das comparações abaixo, qual dos algoritmos teve o menor tempo de execução? Por quê?\n",
    "\n",
    "* B-multicast assíncrono vs. R-multicast assíncrono.\n",
    "    \n",
    "\n",
    "**Resposta**: _Com poucas exeções, o B-multicast assíncrono teve o menor tempo de execução em relação ao R-multicast assíncrono. Isso é esperado, por conta do número de threads executadas no R-multicast, que interfere no tempo de execução do multicast assíncrono, demandando mais tempo para as operações send e receive.Vale salientar ainda que o número de execuções de 50 pode ter interferido na existência de casos em que o R-multicast foi mais rápido que o B-multicast._    \n",
    "\n",
    "_"
   ]
  },
  {
   "cell_type": "code",
   "execution_count": null,
   "metadata": {
    "scrolled": true
   },
   "outputs": [],
   "source": [
    "# Análise de desempenho: B-multicast assíncrono vs. R-multicast assíncrono\n",
    "t_async_B = t_async_R = []\n",
    "\n",
    "times = 50\n",
    "\n",
    "for i = 1:times\n",
    "    #x_sync = @time B_multicast_sync(g, \"Oi! Síncrono!\", println)\n",
    "    #x_async = @time B_multicast(g,\"Oi! Assíncrono!\", println)\n",
    "    x_async_B = @elapsed B_multicast(g, \"Oi! Assíncrono B!\", println)\n",
    "    x_async_R = @elapsed R_multicast_async(g,\"Oi! Assíncrono R!\", println)\n",
    "    push!(t_async_B, float(x_async_B))\n",
    "    push!(t_async_R, float(x_async_R))\n",
    "end\n",
    "\n",
    "y_async_B = convert(Array{Float64,1}, t_async_B);\n",
    "y_async_R = convert(Array{Float64,1}, t_async_R);\n",
    "\n",
    "x_axis = repeat([i for i = 1:50], outer = 2)\n",
    "y_axis = vcat(y_async_B, y_async_R)\n",
    "values = repeat([\"Assíncrono B\", \"Assíncrono R\"], inner = 50)\n",
    "\n",
    "groupedbar(x_axis, y_axis, group = values,\n",
    "        xlabel = \"times\", ylabel = \"times (s)\",\n",
    "    title = \"B-multicast assíncrono vs. R-multicast assíncrono\")"
   ]
  },
  {
   "cell_type": "markdown",
   "metadata": {
    "collapsed": true
   },
   "source": [
    "* B-multicast síncrono vs. R-multicast síncrono.\n",
    "\n",
    "\n",
    "**Resposta**: _Semelhante ao anterior, o B-multicast síncrono teve o menor tempo de execução em relação ao R-multicast síncrono. Isso é esperado, por conta do número de threads executadas no R-multicast, que interfere no tempo de execução do multicast síncrono, demandando mais tempo para as operações send e receive.Vale ainda saliendar que em nesses casos, a diferença não é expressiva quantitativamente (percentualmente sim), apesar de existir. Uma das possibilidades de explicação para isso seja o número relativamente baixo de execuções, que é de 50, o que também interferiu na existência de casos em que o R-multicast foi mais rápido._  "
   ]
  },
  {
   "cell_type": "code",
   "execution_count": null,
   "metadata": {
    "scrolled": true
   },
   "outputs": [],
   "source": [
    "# Análise de desempenho: B-multicast síncrono vs. R-multicast síncrono\n",
    "t_sync_B = t_sync_R = []\n",
    "\n",
    "times = 50\n",
    "\n",
    "for i = 1:times\n",
    "    #x_sync = @time B_multicast_sync(g, \"Oi! Síncrono!\", println)\n",
    "    #x_async = @time B_multicast(g,\"Oi! Assíncrono!\", println)\n",
    "    x_sync_B = @elapsed B_multicast_sync(g, \"Oi! Síncrono B!\", println)\n",
    "    x_sync_R = @elapsed R_multicast_sync(g,\"Oi! Síncrono R!\", println)\n",
    "    push!(t_sync_B, float(x_sync_B))\n",
    "    push!(t_sync_R, float(x_sync_R))\n",
    "end\n",
    "\n",
    "y_sync_B = convert(Array{Float64,1}, t_sync_B);\n",
    "y_sync_R = convert(Array{Float64,1}, t_sync_R);\n",
    "\n",
    "x_axis = repeat([i for i = 1:50], outer = 2)\n",
    "y_axis = vcat(y_sync_B, y_sync_R)\n",
    "values = repeat([\"Síncrono B\", \"Síncrono R\"], inner = 50)\n",
    "\n",
    "groupedbar(x_axis, y_axis, group = values,\n",
    "        xlabel = \"times\", ylabel = \"times (s)\",\n",
    "    title = \"B-multicast síncrono vs. R-multicast síncrono\")"
   ]
  },
  {
   "cell_type": "markdown",
   "metadata": {
    "collapsed": true
   },
   "source": [
    "Entrega\n",
    "As respostas deverão ser entregues nos devidos campos desse arquivo, ou seja, em Markdown e no formato IJulia Notebook.\n",
    "\n",
    "O programa deve ser implementado na linguagem de programação Julia. Seu trabalho será testado na JuliaBox, portanto teste seu arquivo IJulia na JulizBox antes de enviá-lo.\n",
    "\n",
    "Forma\n",
    "O arquivo IJulia Notebook deverá ser entregue ao Professor exclusivamente através do Google Classroom.\n",
    "\n",
    "A responsabilidade sobre a integridade do arquivo contendo trabalho é exclusivamente dos discentes. Serão ignorados os trabalhos cujos arquivos não conseguirem ser abertos pelo Professor.\n",
    "\n",
    "Prazos\n",
    "O prazo de entrega sem atraso é o dia 18/11/17.\n",
    "\n",
    "Trabalhos entregues com atraso serão aceitos, no máximo, até o o dia 19/11/17. Serão descontados 5% da nota obtida por dia de atraso.\n",
    "\n",
    "Pontuação extra\n",
    "O(a) discente que realizar mais tarefas, além do que foi especificado neste trabalho, o professor atribuirá de 0,5 a 1,0 ponto extra a depender da relevância da contribuição no programa. O critério será decidido pelo professor.\n",
    "\n",
    "O(a) discente deve indicar qual é a tarefa executada. Por exemplo, adição de funcionalidades, armazenamento de dados em arquivo, documentação de código, comentários em inglês sem erros ortográficos, etc.\n",
    "\n",
    "Plágio A nota zero será atribuída caso haja qualquer tipo de cópia parcial ou integral assim como as devidas medidas legais. Leia a cartilha sobre plágio.\n",
    "\n",
    "Disclaimer\n",
    "Esse material foi elaborado pelo Prof. André Lage Freitas e está licenciado sob a licença GNU General Public License v3.0."
   ]
  }
 ],
 "metadata": {
  "kernelspec": {
   "display_name": "Julia 1.1.1",
   "language": "julia",
   "name": "julia-1.1"
  },
  "language_info": {
   "file_extension": ".jl",
   "mimetype": "application/julia",
   "name": "julia",
   "version": "1.1.1"
  }
 },
 "nbformat": 4,
 "nbformat_minor": 1
}
